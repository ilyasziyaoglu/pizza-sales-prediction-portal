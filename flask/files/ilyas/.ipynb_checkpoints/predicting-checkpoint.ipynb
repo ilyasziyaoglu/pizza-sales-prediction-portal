{
 "cells": [
  {
   "cell_type": "code",
   "execution_count": 1,
   "metadata": {},
   "outputs": [
    {
     "name": "stdout",
     "output_type": "stream",
     "text": [
      "          date  sales          category  month  year\n",
      "31  2016-01-01   95.0     Chicago Pizza      1  2016\n",
      "32  2016-01-02   50.0     Chicago Pizza      2  2016\n",
      "33  2016-01-03   92.0     Chicago Pizza      3  2016\n",
      "34  2016-01-04   75.0     Chicago Pizza      4  2016\n",
      "35  2016-01-05   84.0     Chicago Pizza      5  2016\n",
      "36  2016-01-06   86.0     Chicago Pizza      6  2016\n",
      "37  2016-01-07   65.0     Chicago Pizza      7  2016\n",
      "38  2016-01-08   87.0     Chicago Pizza      8  2016\n",
      "39  2016-01-09    NaN     Chicago Pizza      9  2016\n",
      "40  2016-01-10   72.0     Chicago Pizza     10  2016\n",
      "41  2016-01-11   94.0     Chicago Pizza     11  2016\n",
      "42  2016-01-12   53.0     Chicago Pizza     12  2016\n",
      "43  2017-01-01   81.0     Chicago Pizza      1  2017\n",
      "44  2017-01-02   62.0     Chicago Pizza      2  2017\n",
      "45  2017-01-03   96.0     Chicago Pizza      3  2017\n",
      "46  2017-01-04   72.0     Chicago Pizza      4  2017\n",
      "47  2017-01-05   86.0     Chicago Pizza      5  2017\n",
      "48  2017-01-06   95.0     Chicago Pizza      6  2017\n",
      "49  2017-01-07   60.0     Chicago Pizza      7  2017\n",
      "50  2017-01-08  100.0     Chicago Pizza      8  2017\n",
      "51  2017-01-09   85.0     Chicago Pizza      9  2017\n",
      "52  2017-01-10   89.0     Chicago Pizza     10  2017\n",
      "53  2017-01-11   62.0     Chicago Pizza     11  2017\n",
      "54  2017-01-12   84.0     Chicago Pizza     12  2017\n",
      "55  2018-01-01   68.0     Chicago Pizza      1  2018\n",
      "56  2018-01-02   51.0     Chicago Pizza      2  2018\n",
      "57  2018-01-03   81.0     Chicago Pizza      3  2018\n",
      "58  2018-01-04   92.0     Chicago Pizza      4  2018\n",
      "59  2018-01-05   79.0     Chicago Pizza      5  2018\n",
      "60  2018-01-06   52.0     Chicago Pizza      6  2018\n",
      "..         ...    ...               ...    ...   ...\n",
      "94  2016-01-02   77.0  Tomato Pie Pizza      2  2016\n",
      "95  2016-01-03   99.0  Tomato Pie Pizza      3  2016\n",
      "96  2016-01-04   62.0  Tomato Pie Pizza      4  2016\n",
      "97  2016-01-05   83.0  Tomato Pie Pizza      5  2016\n",
      "98  2016-01-06   60.0  Tomato Pie Pizza      6  2016\n",
      "99  2016-01-07   77.0  Tomato Pie Pizza      7  2016\n",
      "100 2016-01-08   53.0  Tomato Pie Pizza      8  2016\n",
      "101 2016-01-09   87.0  Tomato Pie Pizza      9  2016\n",
      "102 2016-01-10   65.0  Tomato Pie Pizza     10  2016\n",
      "103 2016-01-11   99.0  Tomato Pie Pizza     11  2016\n",
      "104 2016-01-12   72.0  Tomato Pie Pizza     12  2016\n",
      "105 2017-01-01   85.0  Tomato Pie Pizza      1  2017\n",
      "106 2017-01-02   69.0  Tomato Pie Pizza      2  2017\n",
      "107 2017-01-03   76.0  Tomato Pie Pizza      3  2017\n",
      "108 2017-01-04   75.0  Tomato Pie Pizza      4  2017\n",
      "109 2017-01-05   81.0  Tomato Pie Pizza      5  2017\n",
      "110 2017-01-06   66.0  Tomato Pie Pizza      6  2017\n",
      "111 2017-01-07    NaN  Tomato Pie Pizza      7  2017\n",
      "112 2017-01-08   78.0  Tomato Pie Pizza      8  2017\n",
      "113 2017-01-09   67.0  Tomato Pie Pizza      9  2017\n",
      "114 2017-01-10   89.0  Tomato Pie Pizza     10  2017\n",
      "115 2017-01-11   80.0  Tomato Pie Pizza     11  2017\n",
      "116 2017-01-12   50.0  Tomato Pie Pizza     12  2017\n",
      "117 2018-01-01   79.0  Tomato Pie Pizza      1  2018\n",
      "118 2018-01-02   76.0  Tomato Pie Pizza      2  2018\n",
      "119 2018-01-03   54.0  Tomato Pie Pizza      3  2018\n",
      "120 2018-01-04   79.0  Tomato Pie Pizza      4  2018\n",
      "121 2018-01-05   88.0  Tomato Pie Pizza      5  2018\n",
      "122 2018-01-06   80.0  Tomato Pie Pizza      6  2018\n",
      "123 2018-01-07   71.0  Tomato Pie Pizza      7  2018\n",
      "\n",
      "[124 rows x 5 columns]\n"
     ]
    }
   ],
   "source": [
    "import numpy as np\n",
    "import pandas as pd\n",
    "import datetime as d\n",
    "import seaborn as sns\n",
    "from matplotlib import pyplot as plt\n",
    "from sklearn.ensemble import RandomForestRegressor\n",
    "from sklearn.model_selection import train_test_split\n",
    "\n",
    "df = pd.read_excel('task1.xlsx')\n",
    "df.columns = [col.lower() for col in df.columns]\n",
    "\n",
    "# split year and month\n",
    "df['month'] = [date.day for date in df.date]\n",
    "df['year'] = [date.year for date in df.date]\n",
    "\n",
    "# sorting df\n",
    "df.sort_values(['category', 'year', 'month'], inplace=True)"
   ]
  },
  {
   "cell_type": "code",
   "execution_count": 2,
   "metadata": {},
   "outputs": [],
   "source": [
    "# getting unique pizza categories\n",
    "cats = df.category.unique()\n",
    "\n",
    "# filling nan values\n",
    "for cat in cats:\n",
    "    df[df.category == cat] = df[df.category == cat].fillna(df[df.category == cat].mean())"
   ]
  },
  {
   "cell_type": "code",
   "execution_count": 11,
   "metadata": {},
   "outputs": [
    {
     "data": {
      "text/plain": [
       "123    2018\n",
       "Name: year, dtype: int64"
      ]
     },
     "execution_count": 11,
     "metadata": {},
     "output_type": "execute_result"
    }
   ],
   "source": [
    "a = df[df.category == 'Tomato Pie Pizza'].tail(1).year\n",
    "a"
   ]
  },
  {
   "cell_type": "code",
   "execution_count": 3,
   "metadata": {},
   "outputs": [],
   "source": [
    "regr = RandomForestRegressor(max_depth=2, random_state=0, n_estimators=100)"
   ]
  },
  {
   "cell_type": "code",
   "execution_count": 4,
   "metadata": {},
   "outputs": [],
   "source": [
    "def next_date(year, month):\n",
    "    if month < 12:\n",
    "        return year, month+1\n",
    "    else:\n",
    "        return year+1, 1"
   ]
  },
  {
   "cell_type": "code",
   "execution_count": 5,
   "metadata": {},
   "outputs": [
    {
     "ename": "NameError",
     "evalue": "name 'dfs' is not defined",
     "output_type": "error",
     "traceback": [
      "\u001b[0;31m---------------------------------------------------------------------------\u001b[0m",
      "\u001b[0;31mNameError\u001b[0m                                 Traceback (most recent call last)",
      "\u001b[0;32m<ipython-input-5-f262c3f08349>\u001b[0m in \u001b[0;36m<module>\u001b[0;34m\u001b[0m\n\u001b[1;32m     14\u001b[0m     \u001b[0mstep\u001b[0m \u001b[0;34m=\u001b[0m \u001b[0;36m5\u001b[0m\u001b[0;34m\u001b[0m\u001b[0;34m\u001b[0m\u001b[0m\n\u001b[1;32m     15\u001b[0m     \u001b[0myear\u001b[0m \u001b[0;34m=\u001b[0m \u001b[0mX\u001b[0m\u001b[0;34m.\u001b[0m\u001b[0myear\u001b[0m\u001b[0;34m.\u001b[0m\u001b[0mmax\u001b[0m\u001b[0;34m(\u001b[0m\u001b[0;34m)\u001b[0m\u001b[0;34m\u001b[0m\u001b[0;34m\u001b[0m\u001b[0m\n\u001b[0;32m---> 16\u001b[0;31m     \u001b[0mmonth\u001b[0m \u001b[0;34m=\u001b[0m \u001b[0mdfs\u001b[0m\u001b[0;34m[\u001b[0m\u001b[0mcat\u001b[0m\u001b[0;34m]\u001b[0m\u001b[0;34m.\u001b[0m\u001b[0mmonth\u001b[0m\u001b[0;34m.\u001b[0m\u001b[0miloc\u001b[0m\u001b[0;34m[\u001b[0m\u001b[0mlen\u001b[0m\u001b[0;34m(\u001b[0m\u001b[0mdfs\u001b[0m\u001b[0;34m[\u001b[0m\u001b[0mcat\u001b[0m\u001b[0;34m]\u001b[0m\u001b[0;34m)\u001b[0m\u001b[0;34m-\u001b[0m\u001b[0;36m2\u001b[0m\u001b[0;34m]\u001b[0m\u001b[0;34m\u001b[0m\u001b[0;34m\u001b[0m\u001b[0m\n\u001b[0m\u001b[1;32m     17\u001b[0m     \u001b[0mX_new\u001b[0m \u001b[0;34m=\u001b[0m \u001b[0;34m[\u001b[0m\u001b[0;34m]\u001b[0m\u001b[0;34m\u001b[0m\u001b[0;34m\u001b[0m\u001b[0m\n\u001b[1;32m     18\u001b[0m     \u001b[0;32mfor\u001b[0m \u001b[0mi\u001b[0m \u001b[0;32min\u001b[0m \u001b[0mrange\u001b[0m\u001b[0;34m(\u001b[0m\u001b[0mstep\u001b[0m\u001b[0;34m)\u001b[0m\u001b[0;34m:\u001b[0m\u001b[0;34m\u001b[0m\u001b[0;34m\u001b[0m\u001b[0m\n",
      "\u001b[0;31mNameError\u001b[0m: name 'dfs' is not defined"
     ]
    }
   ],
   "source": [
    "dfs_new = pd.DataFrame(columns=['year', 'month', 'predicted', 'category'])\n",
    "predicted = [1]\n",
    "for cat in cats:\n",
    "    X, y = df[df.category == cat][['year', 'month']], df[df.category == cat].sales\n",
    "    #X_train, X_test, y_train, y_test = train_test_split(X, y, test_size=0.33, random_state=42)\n",
    "    #regr.fit(X_train, y_train)\n",
    "    regr.fit(X, y)\n",
    "    predicted += regr.predict(X)\n",
    "    \n",
    "    #plt.plot(range(len(dfs[cat])), y)\n",
    "    #plt.plot(range(len(dfs[cat])), predicted)\n",
    "    #plt.show()\n",
    "    \n",
    "    step = 5\n",
    "    year = X.tail(1).year\n",
    "    month = X.tail(1).month\n",
    "    X_new = []\n",
    "    for i in range(step):\n",
    "        year, month = next_date(year, month)\n",
    "        X_new.append([year, month])\n",
    "    \n",
    "    X_new = pd.DataFrame(X_new, columns=['year', 'month'])\n",
    "    X_new['predicted'] = regr.predict(X_new)\n",
    "    X_new['category'] = [cat]*step\n",
    "    dfs_new = dfs_new.append(X_new, ignore_index = True)\n",
    "    \n",
    "df['predicted'] = predicted\n",
    "df"
   ]
  }
 ],
 "metadata": {
  "kernelspec": {
   "display_name": "Python 3",
   "language": "python",
   "name": "python3"
  },
  "language_info": {
   "codemirror_mode": {
    "name": "ipython",
    "version": 3
   },
   "file_extension": ".py",
   "mimetype": "text/x-python",
   "name": "python",
   "nbconvert_exporter": "python",
   "pygments_lexer": "ipython3",
   "version": "3.6.8"
  }
 },
 "nbformat": 4,
 "nbformat_minor": 2
}
